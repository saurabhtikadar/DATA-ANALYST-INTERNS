{
 "cells": [
  {
   "cell_type": "markdown",
   "id": "febd59f4",
   "metadata": {},
   "source": [
    "# Sales Data Analysis\n",
    "\n",
    "This project demonstrates how to create and analyze a sales dataset using SQLite and Python. It includes generating dummy sales data, storing it in a database, querying the data for analysis, and visualizing the results.\n",
    "\n",
    "## Steps in the Notebook\n",
    "\n",
    "**1. Import Required Libraries**"
   ]
  },
  {
   "cell_type": "code",
   "execution_count": 1,
   "id": "5a525e85",
   "metadata": {},
   "outputs": [],
   "source": [
    "import sqlite3\n",
    "import random\n",
    "import pandas as pd\n",
    "import matplotlib.pyplot as plt"
   ]
  },
  {
   "cell_type": "markdown",
   "id": "821ef740",
   "metadata": {},
   "source": [
    "**2. Create SQLite Database and Table**\n",
    "- Connect to an SQLite database (sales_data.db).\n",
    "- Create a sales table with columns for id, product, quantity, and price."
   ]
  },
  {
   "cell_type": "code",
   "execution_count": null,
   "id": "732301f2",
   "metadata": {},
   "outputs": [
    {
     "data": {
      "text/plain": [
       "<sqlite3.Cursor at 0x2972c2c52c0>"
      ]
     },
     "execution_count": 2,
     "metadata": {},
     "output_type": "execute_result"
    }
   ],
   "source": [
    "# Connect to SQLite and create the database file\n",
    "conn = sqlite3.connect(\"sales_dataset.db\")\n",
    "cursor = conn.cursor()\n",
    "\n",
    "# Create the sales table\n",
    "cursor.execute(\"\"\"\n",
    "CREATE TABLE IF NOT EXISTS sales (\n",
    "    id INTEGER PRIMARY KEY AUTOINCREMENT,\n",
    "    product TEXT NOT NULL,\n",
    "    quantity INTEGER NOT NULL,\n",
    "    price REAL NOT NULL\n",
    ")\n",
    "\"\"\")"
   ]
  },
  {
   "cell_type": "markdown",
   "id": "e4283f56",
   "metadata": {},
   "source": [
    "**3. Generate Dummy Sales Data**\n",
    "- Generate 1000+ rows of random sales data for five products (Product A, Product B, etc.).\n",
    "- Each row includes a product name, quantity sold, and price."
   ]
  },
  {
   "cell_type": "code",
   "execution_count": null,
   "id": "c21f9b26",
   "metadata": {},
   "outputs": [],
   "source": [
    "# Generate 1000+ rows of dummy data\n",
    "products = [\"Product A\", \"Product B\", \"Product C\", \"Product D\", \"Product E\"]\n",
    "sample_data = [(random.choice(products), random.randint(1, 20), round(random.uniform(5.0, 50.0), 2))\n",
    "    for _ in range(1000)]"
   ]
  },
  {
   "cell_type": "markdown",
   "id": "182df477",
   "metadata": {},
   "source": [
    "**4. Insert Data into the Database**\n",
    "- Insert the generated dummy data into the sales table."
   ]
  },
  {
   "cell_type": "code",
   "execution_count": 4,
   "id": "7c77ddf1",
   "metadata": {},
   "outputs": [
    {
     "data": {
      "text/plain": [
       "<sqlite3.Cursor at 0x2972c2c52c0>"
      ]
     },
     "execution_count": 4,
     "metadata": {},
     "output_type": "execute_result"
    }
   ],
   "source": [
    "# Insert the dummy data into the sales table\n",
    "cursor.executemany(\"INSERT INTO sales (product, quantity, price) VALUES (?, ?, ?)\", sample_data)"
   ]
  },
  {
   "cell_type": "markdown",
   "id": "de609906",
   "metadata": {},
   "source": [
    "**5. Commit changes and close the connection**"
   ]
  },
  {
   "cell_type": "code",
   "execution_count": 5,
   "id": "ade5cc87",
   "metadata": {},
   "outputs": [
    {
     "name": "stdout",
     "output_type": "stream",
     "text": [
      "Database 'sales_data.db' created with 1000+ rows of data successfully.\n"
     ]
    }
   ],
   "source": [
    "# Commit changes and close the connection\n",
    "conn.commit()\n",
    "conn.close()\n",
    "print(\"Database 'sales_data.db' created with 1000+ rows of data successfully.\")\n"
   ]
  },
  {
   "cell_type": "markdown",
   "id": "0e4c1f9c",
   "metadata": {},
   "source": [
    "# Data Analysis"
   ]
  },
  {
   "cell_type": "markdown",
   "id": "843ef004",
   "metadata": {},
   "source": [
    "**1. Query the Database for Analysis**\n",
    "- Connect to the database and query the total quantity sold and revenue for each product."
   ]
  },
  {
   "cell_type": "code",
   "execution_count": 7,
   "id": "4ed52afe",
   "metadata": {},
   "outputs": [
    {
     "data": {
      "text/html": [
       "<div>\n",
       "<style scoped>\n",
       "    .dataframe tbody tr th:only-of-type {\n",
       "        vertical-align: middle;\n",
       "    }\n",
       "\n",
       "    .dataframe tbody tr th {\n",
       "        vertical-align: top;\n",
       "    }\n",
       "\n",
       "    .dataframe thead th {\n",
       "        text-align: right;\n",
       "    }\n",
       "</style>\n",
       "<table border=\"1\" class=\"dataframe\">\n",
       "  <thead>\n",
       "    <tr style=\"text-align: right;\">\n",
       "      <th></th>\n",
       "      <th>product</th>\n",
       "      <th>total_qty</th>\n",
       "      <th>revenue</th>\n",
       "    </tr>\n",
       "  </thead>\n",
       "  <tbody>\n",
       "    <tr>\n",
       "      <th>0</th>\n",
       "      <td>Product A</td>\n",
       "      <td>1934</td>\n",
       "      <td>51733.27</td>\n",
       "    </tr>\n",
       "    <tr>\n",
       "      <th>1</th>\n",
       "      <td>Product B</td>\n",
       "      <td>2174</td>\n",
       "      <td>59353.29</td>\n",
       "    </tr>\n",
       "    <tr>\n",
       "      <th>2</th>\n",
       "      <td>Product C</td>\n",
       "      <td>2160</td>\n",
       "      <td>61746.65</td>\n",
       "    </tr>\n",
       "    <tr>\n",
       "      <th>3</th>\n",
       "      <td>Product D</td>\n",
       "      <td>2275</td>\n",
       "      <td>62654.97</td>\n",
       "    </tr>\n",
       "    <tr>\n",
       "      <th>4</th>\n",
       "      <td>Product E</td>\n",
       "      <td>2151</td>\n",
       "      <td>61324.95</td>\n",
       "    </tr>\n",
       "  </tbody>\n",
       "</table>\n",
       "</div>"
      ],
      "text/plain": [
       "     product  total_qty   revenue\n",
       "0  Product A       1934  51733.27\n",
       "1  Product B       2174  59353.29\n",
       "2  Product C       2160  61746.65\n",
       "3  Product D       2275  62654.97\n",
       "4  Product E       2151  61324.95"
      ]
     },
     "execution_count": 7,
     "metadata": {},
     "output_type": "execute_result"
    }
   ],
   "source": [
    "# Connect to the SQLite database\n",
    "conn = sqlite3.connect(\"sales_dataset.db\")\n",
    "# Define the SQL query\n",
    "query = \"\"\"\n",
    "SELECT \n",
    "    product, \n",
    "    SUM(quantity) AS total_qty, \n",
    "    SUM(quantity * price) AS revenue\n",
    "FROM \n",
    "    sales\n",
    "GROUP BY \n",
    "    product\n",
    "\"\"\"\n",
    "# Execute the query and load results into a Pandas DataFrame\n",
    "df = pd.read_sql_query(query, conn)\n",
    "df"
   ]
  },
  {
   "cell_type": "markdown",
   "id": "1bb4e4ae",
   "metadata": {},
   "source": [
    "**6. Display and Visualize the Results**\n",
    "- Print the sales summary by product."
   ]
  },
  {
   "cell_type": "code",
   "execution_count": 8,
   "id": "ceca1736",
   "metadata": {},
   "outputs": [
    {
     "name": "stdout",
     "output_type": "stream",
     "text": [
      "Sales Summary by Product:\n",
      "\n",
      "     product  total_qty   revenue\n",
      "0  Product A       1934  51733.27\n",
      "1  Product B       2174  59353.29\n",
      "2  Product C       2160  61746.65\n",
      "3  Product D       2275  62654.97\n",
      "4  Product E       2151  61324.95\n"
     ]
    }
   ],
   "source": [
    "# Display the results of the first query\n",
    "print(\"Sales Summary by Product:\\n\")\n",
    "print(df)"
   ]
  },
  {
   "cell_type": "markdown",
   "id": "9a2e8e3f",
   "metadata": {},
   "source": [
    "**7. Plot the revenue by product as a bar chart.**"
   ]
  },
  {
   "cell_type": "code",
   "execution_count": 9,
   "id": "8670b4f5",
   "metadata": {},
   "outputs": [
    {
     "data": {
      "text/plain": [
       "<Figure size 1000x600 with 0 Axes>"
      ]
     },
     "metadata": {},
     "output_type": "display_data"
    },
    {
     "data": {
      "image/png": "[encoded data removed]",
      "text/plain": [
       "<Figure size 640x480 with 1 Axes>"
      ]
     },
     "metadata": {},
     "output_type": "display_data"
    }
   ],
   "source": [
    "# Plot the results of the query as a bar chart\n",
    "plt.figure(figsize=(10, 6))\n",
    "df.plot(kind='bar', x='product', y='revenue', color='skyblue', legend=False)\n",
    "plt.title(\"Revenue by Product\", fontsize=16)\n",
    "plt.xlabel(\"Product\", fontsize=14)\n",
    "plt.ylabel(\"Revenue ($)\", fontsize=14)\n",
    "plt.xticks(rotation=45, ha='right')\n",
    "plt.tight_layout()\n",
    "\n",
    "# Save the plot as an image (optional)\n",
    "plt.savefig(\"sales_chart.png\")\n",
    "\n",
    "# Show the plot\n",
    "plt.show()"
   ]
  },
  {
   "cell_type": "markdown",
   "id": "e3e17a7a",
   "metadata": {},
   "source": [
    "**Output**\n",
    "- Database: sales_data.db containing the sales table with 1000+ rows of data.\n",
    "- Analysis: A summary of sales by product displayed in the console.\n",
    "- Visualization: A bar chart (sales_chart.png) showing revenue by product."
   ]
  },
  {
   "cell_type": "markdown",
   "id": "ff5fac19",
   "metadata": {},
   "source": [
    "**How to Run**\n",
    "1. Open the `Sales_data.ipynb` notebook in Jupyter Notebook or any compatible environment.\n",
    "2. Execute the cells step by step to create the database, generate data, analyze it, and visualize the results."
   ]
  }
 ],
 "metadata": {
  "kernelspec": {
   "display_name": "Python 3",
   "language": "python",
   "name": "python3"
  },
  "language_info": {
   "codemirror_mode": {
    "name": "ipython",
    "version": 3
   },
   "file_extension": ".py",
   "mimetype": "text/x-python",
   "name": "python",
   "nbconvert_exporter": "python",
   "pygments_lexer": "ipython3",
   "version": "3.11.9"
  }
 },
 "nbformat": 4,
 "nbformat_minor": 5
}
